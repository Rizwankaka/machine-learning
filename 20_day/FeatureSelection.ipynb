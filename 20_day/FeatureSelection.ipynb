{
 "cells": [
  {
   "attachments": {},
   "cell_type": "markdown",
   "metadata": {},
   "source": [
    "# **Feature Selection Methods:**\n",
    "\n",
    "### 1. Filter Method:\n",
    "\n",
    "#### a. Pearson's Correlation Coefficient:"
   ]
  },
  {
   "cell_type": "code",
   "execution_count": 1,
   "metadata": {},
   "outputs": [
    {
     "name": "stderr",
     "output_type": "stream",
     "text": [
      "C:\\Users\\Tesla Laptops\\AppData\\Local\\Temp\\ipykernel_6948\\1099567243.py:13: FutureWarning: The default value of numeric_only in DataFrame.corr is deprecated. In a future version, it will default to False. Select only valid columns or specify the value of numeric_only to silence this warning.\n",
      "  correlation= tips.corr(method='pearson')['tip'].sort_values()\n"
     ]
    },
    {
     "data": {
      "text/plain": [
       "['size', 'total_bill', 'tip']"
      ]
     },
     "execution_count": 1,
     "metadata": {},
     "output_type": "execute_result"
    }
   ],
   "source": [
    "import pandas as pd\n",
    "import seaborn as sns \n",
    "from scipy.stats import pearsonr # pearsonr only for numerical values as it works on statistical data\n",
    "\n",
    "# Load the data \n",
    "tips= sns.load_dataset('tips')\n",
    "\n",
    "X= tips.drop('tip', axis=1)\n",
    "y=tips['tip']\n",
    "\n",
    "# Calculate the pearsonr correlation between features and target variables \n",
    "\n",
    "correlation= tips.corr(method='pearson')['tip'].sort_values()\n",
    "\n",
    "# now we will select features having corr>0.2 and <-0.2 as our final features\n",
    "selected_features= correlation[abs(correlation) > 0.2].index.tolist()\n",
    "selected_features "
   ]
  },
  {
   "attachments": {},
   "cell_type": "markdown",
   "metadata": {},
   "source": [
    "### 2. Wrapper Methods\n",
    "#### RFE (Recrusive Feature Elimination)"
   ]
  },
  {
   "cell_type": "code",
   "execution_count": 3,
   "metadata": {},
   "outputs": [
    {
     "name": "stdout",
     "output_type": "stream",
     "text": [
      "Selected Feature Index(['total_bill', 'sex', 'smoker', 'day', 'time', 'size'], dtype='object')\n"
     ]
    }
   ],
   "source": [
    "from sklearn.feature_selection import RFE\n",
    "from sklearn.linear_model import LinearRegression\n",
    "\n",
    "# Load the tips dataset\n",
    "tips=sns.load_dataset('tips')\n",
    "features=tips.drop('tip', axis=1)\n",
    "target=tips['tip']\n",
    "\n",
    "# Label encode the features \n",
    "from sklearn.preprocessing import LabelEncoder\n",
    "le= LabelEncoder()\n",
    "features['sex']= le.fit_transform(features['sex'])\n",
    "features['smoker']= le.fit_transform(features['smoker'])\n",
    "features['day']= le.fit_transform(features['day'])\n",
    "features['time']= le.fit_transform(features['time'])\n",
    "features['size']= le.fit_transform(features['size'])\n",
    "\n",
    "model=LinearRegression()\n",
    "selector=RFE(model, n_features_to_select=10, step=1)\n",
    "selector.fit(features, target)\n",
    "\n",
    "selected_features=features.columns[selector.get_support()]\n",
    "print(\"Selected Feature\", selected_features)"
   ]
  },
  {
   "attachments": {},
   "cell_type": "markdown",
   "metadata": {},
   "source": [
    "#### SFS (Sequential Feature Selection)"
   ]
  },
  {
   "cell_type": "code",
   "execution_count": 18,
   "metadata": {},
   "outputs": [
    {
     "name": "stdout",
     "output_type": "stream",
     "text": [
      "Selected Features: Index(['total_bill', 'sex', 'size'], dtype='object')\n"
     ]
    }
   ],
   "source": [
    "import seaborn as sns\n",
    "from mlxtend.feature_selection import SequentialFeatureSelector\n",
    "from sklearn.linear_model import LinearRegression\n",
    "\n",
    "tips = sns.load_dataset('tips')\n",
    "features = tips.drop('tip', axis=1)\n",
    "target = tips['tip']\n",
    "\n",
    "# Label encode the features \n",
    "from sklearn.preprocessing import LabelEncoder\n",
    "le= LabelEncoder()\n",
    "features['sex']= le.fit_transform(features['sex'])\n",
    "features['smoker']= le.fit_transform(features['smoker'])\n",
    "features['day']= le.fit_transform(features['day'])\n",
    "features['time']= le.fit_transform(features['time'])\n",
    "features['size']= le.fit_transform(features['size'])\n",
    "\n",
    "model = LinearRegression()\n",
    "selector = SequentialFeatureSelector(model, k_features=3, forward=True, scoring='neg_mean_squared_error')\n",
    "selector.fit(features, target)\n",
    "\n",
    "selected_features = features.columns[list(selector.k_feature_idx_)]\n",
    "print('Selected Features:', selected_features)"
   ]
  },
  {
   "attachments": {},
   "cell_type": "markdown",
   "metadata": {},
   "source": [
    "### 3. Embedded Methods\n",
    "\n",
    "#### Lasso Regression "
   ]
  },
  {
   "cell_type": "code",
   "execution_count": 20,
   "metadata": {},
   "outputs": [
    {
     "name": "stdout",
     "output_type": "stream",
     "text": [
      "Selected Features: Index(['total_bill', 'size'], dtype='object')\n"
     ]
    }
   ],
   "source": [
    "from sklearn.linear_model import Lasso\n",
    "\n",
    "# Load the tips dataset\n",
    "tips=sns.load_dataset('tips')\n",
    "features=tips.drop('tip', axis=1)\n",
    "target=tips['tip']\n",
    "\n",
    "# Label encode the features \n",
    "from sklearn.preprocessing import LabelEncoder\n",
    "le= LabelEncoder()\n",
    "features['sex']= le.fit_transform(features['sex'])\n",
    "features['smoker']= le.fit_transform(features['smoker'])\n",
    "features['day']= le.fit_transform(features['day'])\n",
    "features['time']= le.fit_transform(features['time'])\n",
    "features['size']= le.fit_transform(features['size'])\n",
    "\n",
    "model=Lasso(alpha=0.1)\n",
    "model.fit(features, target)\n",
    "\n",
    "selected_features=features.columns[model.coef_!=0]\n",
    "print('Selected Features:', selected_features)"
   ]
  },
  {
   "attachments": {},
   "cell_type": "markdown",
   "metadata": {},
   "source": [
    "### 4. Dimensionality Reduction Method\n",
    "\n",
    "#### PCA"
   ]
  },
  {
   "cell_type": "code",
   "execution_count": 26,
   "metadata": {},
   "outputs": [
    {
     "name": "stdout",
     "output_type": "stream",
     "text": [
      "Most important features: Index(['price', 'table', 'depth', 'color'], dtype='object')\n"
     ]
    }
   ],
   "source": [
    "import pandas as pd \n",
    "import numpy as np \n",
    "from sklearn.decomposition import PCA\n",
    "from sklearn.preprocessing import StandardScaler\n",
    "\n",
    "# Load the Diamonds dataset \n",
    "df = sns.load_dataset('diamonds')\n",
    "\n",
    "# Convert the categorical variable to numerical \n",
    "df['cut'] = pd.factorize(df['cut'])[0]\n",
    "df['color'] = pd.factorize(df['color'])[0]\n",
    "df['clarity'] = pd.factorize(df['clarity'])[0]\n",
    "\n",
    "# split the features and target variables \n",
    "X = df.drop('price', axis=1).values\n",
    "y = df['price'].values\n",
    "\n",
    "# standardize the features\n",
    "scaler = StandardScaler()\n",
    "X_scaled = scaler.fit_transform(X)\n",
    "\n",
    "# Perform PCA and select the most important features \n",
    "pca = PCA(n_components=4)\n",
    "X_pca = pca.fit_transform(X_scaled)\n",
    "most_important_features=np.abs(pca.components_).argmax(axis=1)\n",
    "\n",
    "# Print the most important features \n",
    "print(\"Most important features:\", df.columns[most_important_features])"
   ]
  }
 ],
 "metadata": {
  "kernelspec": {
   "display_name": "Python 3",
   "language": "python",
   "name": "python3"
  },
  "language_info": {
   "codemirror_mode": {
    "name": "ipython",
    "version": 3
   },
   "file_extension": ".py",
   "mimetype": "text/x-python",
   "name": "python",
   "nbconvert_exporter": "python",
   "pygments_lexer": "ipython3",
   "version": "3.11.3"
  },
  "orig_nbformat": 4
 },
 "nbformat": 4,
 "nbformat_minor": 2
}
