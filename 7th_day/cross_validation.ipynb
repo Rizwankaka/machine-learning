{
 "cells": [
  {
   "attachments": {},
   "cell_type": "markdown",
   "metadata": {},
   "source": [
    "## **Cross Validation**\n",
    "* Cross validation is a technique to evaluate a model by splitting the data into a training and test set.\n",
    "* The training set is used to train the model, while the test's set is used to evaluate the model's performance.\n",
    "  \n",
    "Cross-validation is statistical technique used in machine learning and data analysis to evaluate how well a model is able to generalize to new data.\n",
    "\n",
    "In a prediction problem, a model is usually given a dataset of known data on which training is run (training dataset), and a dataset of unknown data (or first seen data) against which the model is tested (called the validation dataset or testing set).\n",
    "\n",
    "\n"
   ]
  }
 ],
 "metadata": {
  "language_info": {
   "name": "python"
  },
  "orig_nbformat": 4
 },
 "nbformat": 4,
 "nbformat_minor": 2
}
