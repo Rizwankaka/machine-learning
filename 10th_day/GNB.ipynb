{
 "cells": [
  {
   "attachments": {},
   "cell_type": "markdown",
   "metadata": {},
   "source": [
    "## **Guassian Naive Bayes**"
   ]
  },
  {
   "cell_type": "code",
   "execution_count": 12,
   "metadata": {},
   "outputs": [
    {
     "name": "stdout",
     "output_type": "stream",
     "text": [
      "Gaussian Naive Bayes:  1.0\n",
      "Multinomial Naive Bayes:  0.9\n",
      "Bernoulli Naive Bayes:  0.3\n",
      "Complement Naive Bayes:  0.7\n",
      "===========================\n",
      "Best model: 1.0\n"
     ]
    }
   ],
   "source": [
    "from sklearn.datasets import load_iris\n",
    "from sklearn.model_selection import train_test_split\n",
    "from sklearn.naive_bayes import GaussianNB, MultinomialNB, BernoulliNB, ComplementNB\n",
    "from sklearn.metrics import accuracy_score\n",
    "\n",
    "# Load the iris dataset \n",
    "iris = load_iris()\n",
    "X=iris.data \n",
    "y=iris.target\n",
    "\n",
    "# Split the data into training and test sets\n",
    "X_train, X_test, y_train, y_test = train_test_split(X, y, test_size=0.2, random_state=42)\n",
    "\n",
    "# Initialize the Naive Bayes Modela \n",
    "gnb = GaussianNB()\n",
    "mnb= MultinomialNB()\n",
    "bnb= BernoulliNB()\n",
    "cnb= ComplementNB()\n",
    "\n",
    "# Train the models\n",
    "gnb.fit(X_train, y_train)\n",
    "mnb.fit(X_train, y_train)\n",
    "bnb.fit(X_train, y_train)\n",
    "cnb.fit(X_train, y_train)\n",
    "\n",
    "# Evaluate the models\n",
    "y_pred_gnb = gnb.predict(X_test)\n",
    "y_pred_mnb = mnb.predict(X_test)\n",
    "y_pred_bnb = bnb.predict(X_test)\n",
    "y_pred_cnb = cnb.predict(X_test)\n",
    "\n",
    "# Print the accuracy scores for each model \n",
    "print(\"Gaussian Naive Bayes: \", accuracy_score(y_test, y_pred_gnb))\n",
    "print(\"Multinomial Naive Bayes: \", accuracy_score(y_test, y_pred_mnb))\n",
    "print(\"Bernoulli Naive Bayes: \", accuracy_score(y_test, y_pred_bnb))\n",
    "print(\"Complement Naive Bayes: \", accuracy_score(y_test, y_pred_cnb))\n",
    "\n",
    "# Select the best model based on the accuracy score \n",
    "best_model = max(gnb.score(X_test, y_test), mnb.score(X_test, y_test), bnb.score(X_test, y_test), cnb.score(X_test, y_test))\n",
    "\n",
    "# print a separating line in output \n",
    "print(\"===========================\")\n",
    "\n",
    "# Print the best model\n",
    "print(\"Best model:\", best_model)\n"
   ]
  },
  {
   "attachments": {},
   "cell_type": "markdown",
   "metadata": {},
   "source": [
    "## **Text Classification**"
   ]
  },
  {
   "cell_type": "code",
   "execution_count": 17,
   "metadata": {},
   "outputs": [],
   "source": [
    "from sklearn.datasets import fetch_20newsgroups\n",
    "from sklearn.feature_extraction.text import CountVectorizer, TfidfTransformer\n",
    "from sklearn.model_selection import train_test_split\n",
    "from sklearn.naive_bayes import MultinomialNB\n",
    "from sklearn.metrics import accuracy_score\n",
    "\n",
    "# Load the 20 Newsgroups dataset \n",
    "categories=['alt.atheism', 'talk.religion.misc']\n",
    "newsgroups=fetch_20newsgroups(subset='all', categories=categories, shuffle=True, random_state=42)\n",
    "\n",
    "# Split the dataset into training and test sets\n",
    "X_train, X_test, y_train, y_test = train_test_split(newsgroups.data, newsgroups.target, test_size=0.2, random_state=42)\n",
    "\n",
    "# Convert the data into feature vectors using bag-of-words model \n",
    "vectorizer = CountVectorizer()\n",
    "X_train_counts = vectorizer.fit_transform(X_train)\n",
    "X_test_counts = vectorizer.transform(X_test)\n",
    "\n",
    "# Convert the data into feature vectors using TF-IDF model\n",
    "tfidf_transformer = TfidfTransformer()  \n",
    "X_train_tfidf = tfidf_transformer.fit_transform(X_train_counts)\n",
    "X_test_tfidf = tfidf_transformer.transform(X_test_counts)\n",
    "\n",
    "# Train the model\n",
    "mnb = MultinomialNB().fit(X_train_tfidf, y_train)\n",
    "\n",
    "# Evaluate the model\n",
    "y_pred_mnb = mnb.predict(X_test_tfidf)\n",
    "print(\"Multinomial Naive Bayes: \", accuracy_score(y_test, y_pred_mnb))"
   ]
  },
  {
   "attachments": {},
   "cell_type": "markdown",
   "metadata": {},
   "source": [
    "## **Sentiment Analysis**"
   ]
  },
  {
   "cell_type": "code",
   "execution_count": null,
   "metadata": {},
   "outputs": [],
   "source": [
    "from sklearn.datasets import fetch_20newsgroups\n",
    "from sklearn.feature_extraction.text import CountVectorizer, TfidfTransformer\n",
    "from sklearn.model_selection import train_test_split\n",
    "from sklearn.naive_bayes import MultinomialNB\n",
    "from sklearn.metrics import accuracy_score, classification_report\n",
    "\n",
    "# Load the 20 Newsgroups dataset \n",
    "newsgroups=fetch_20newsgroups(subset='all', categories=['alt.atheism', 'comp.graphics', 'sci.med', 'soc.religion.christian'])\n",
    "\n",
    "# Split the dataset into training and test sets\n",
    "X_train, X_test, y_train, y_test = train_test_split(newsgroups.data, newsgroups.target, test_size=0.2, random_state=42)\n",
    "\n",
    "# Convert the text data into feature vectors using bag-of-words model\n",
    "vectorizer = CountVectorizer(stop_words='english', ngram_range=(1,2))\n",
    "X_train_counts = vectorizer.fit_transform(X_train)\n",
    "X_test_counts = vectorizer.transform(X_test)\n",
    "\n",
    "# Convert the text data into feature vectors using TF-IDF model\n",
    "tfidf_transformer = TfidfTransformer()\n",
    "X_train_tfidf = tfidf_transformer.fit_transform(X_train_counts)\n",
    "X_test_tfidf = tfidf_transformer.transform(X_test_counts)\n",
    "\n",
    "# Train the model\n",
    "mnb = MultinomialNB().fit(X_train_tfidf, y_train)\n",
    "\n",
    "# Evaluate the model\n",
    "y_pred_mnb = mnb.predict(X_test_tfidf)\n",
    "print(\"Multinomial Naive Bayes: \", accuracy_score(y_test, y_pred_mnb))\n",
    "print(classification_report(y_test, y_pred_mnb))\n"
   ]
  },
  {
   "attachments": {},
   "cell_type": "markdown",
   "metadata": {},
   "source": [
    "## **Check your sentiment**"
   ]
  },
  {
   "cell_type": "code",
   "execution_count": null,
   "metadata": {},
   "outputs": [],
   "source": [
    "# load the trained Naive Bayes model \n",
    "mnb= MultinomialNB()\n",
    "mnb.fit(X_train_tfidf, y_train)\n",
    "\n",
    "# Define your own text \n",
    "my_text = \"I am happy\"\n",
    "\n",
    "# Convert your text into a feature vector using the same CountVectorizer and TfidTransformer objects used \n",
    "my_text_counts=vectorizer.transform([my_text])\n",
    "my_text_tfidf=tfidf_transformer.transform(my_text_counts)\n",
    "\n",
    "# Make a prediction on your test \n",
    "my_sentiment= mnb.predict(my_text_tfidf)\n",
    "\n",
    "# Print the predicted sentiment \n",
    "if my_sentiment==1: \n",
    "    print(\"Positive\")\n",
    "else:\n",
    "    print(\"Negative\")\n"
   ]
  }
 ],
 "metadata": {
  "kernelspec": {
   "display_name": "Python 3",
   "language": "python",
   "name": "python3"
  },
  "language_info": {
   "codemirror_mode": {
    "name": "ipython",
    "version": 3
   },
   "file_extension": ".py",
   "mimetype": "text/x-python",
   "name": "python",
   "nbconvert_exporter": "python",
   "pygments_lexer": "ipython3",
   "version": "3.11.3"
  },
  "orig_nbformat": 4
 },
 "nbformat": 4,
 "nbformat_minor": 2
}
